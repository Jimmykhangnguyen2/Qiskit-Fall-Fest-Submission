{
 "cells": [
  {
   "cell_type": "markdown",
   "metadata": {},
   "source": [
    "# Teleportation\n",
    "\n",
    "Quantum information cannot be copied due to the *No Cloning Theorem*, however it can be \"teleported\" in the sense that a qubit can be entangled with a quantum resource, and via a protocol of measurements and *classical communication* of their results, the original quantum state can be reconstructed on a different qubit. This process destroys the information in the original qubit via measurement.\n",
    "\n",
    "In this challenge, we will construct a particular qubit state and then transfer that state to another qubit using the teleportation protocol. Here we will be looking at specific classical and quantum registers, so we need to import those."
   ]
  },
  {
   "cell_type": "code",
   "execution_count": 19,
   "metadata": {},
   "outputs": [],
   "source": [
    "from qiskit.circuit import ClassicalRegister, QuantumRegister, QuantumCircuit"
   ]
  },
  {
   "cell_type": "markdown",
   "metadata": {},
   "source": [
    "### Create the circuit\n",
    "\n",
    "Define an angle $\\theta$ to rotate our qubit by. This will allow us to easily make comparisons for the original state and the teleported state."
   ]
  },
  {
   "cell_type": "code",
   "execution_count": null,
   "metadata": {},
   "outputs": [],
   "source": [
    "theta = Parameter('θ')\n",
    "\n",
    "qr = QuantumRegister(1, 'q')\n",
    "qc = QuantumCircuit(qr)\n",
    "qc.ry(theta, 0)\n",
    "qc.draw('mpl')"
   ]
  },
  {
   "cell_type": "markdown",
   "metadata": {},
   "source": [
    "Alice possesses the quantum information $|\\psi\\rangle$ in the state of $q$ and wishes to transfer it to Bob. The resource they share is a special entangled state called a Bell state\n",
    "$$\n",
    "|\\Phi^+\\rangle = \\frac{1}{2} \\left( |00\\rangle + |11\\rangle \\right)\n",
    "$$\n",
    "with the first of the pair going to Alice and the second to Bob. Hence Alice has a 2-qubit register ($q$ and $Bell_0$) and Bob has a single-qubit register ($Bell_1$). We will construct the circuit by copying the original `qc` and adding the appropriate registers."
   ]
  },
  {
   "cell_type": "code",
   "execution_count": null,
   "metadata": {},
   "outputs": [],
   "source": [
    "tele_qc = qc.copy()\n",
    "bell = QuantumRegister(2, 'Bell')\n",
    "alice = ClassicalRegister(2, 'Alice')\n",
    "bob = ClassicalRegister(1, 'Bob')\n",
    "tele_qc.add_register(bell, alice, bob)\n",
    "tele_qc.draw('mpl')"
   ]
  },
  {
   "cell_type": "markdown",
   "metadata": {},
   "source": [
    "Now create the Bell pair with $Bell_0$ going to Alice and $Bell_1$ going to Bob. This is done by using a Hadamard gate to put $Bell_0$ in the $|+\\rangle$ state and then performing a CNOT with the same qubit as the control. After they receive their respective qubit, they part ways."
   ]
  },
  {
   "cell_type": "code",
   "execution_count": null,
   "metadata": {},
   "outputs": [],
   "source": [
    "# create Bell state with other two qubits\n",
    "tele_qc.barrier()\n",
    "tele_qc.h(1)\n",
    "tele_qc.cx(1, 2)\n",
    "tele_qc.barrier()\n",
    "tele_qc.draw('mpl')"
   ]
  },
  {
   "cell_type": "markdown",
   "metadata": {},
   "source": [
    "Next, Alice performs a CNOT controlled by $q$ on $Bell_0$, which maps information about the state onto it. She then applies a Hadamard gate on $q$."
   ]
  },
  {
   "cell_type": "code",
   "execution_count": null,
   "metadata": {},
   "outputs": [],
   "source": [
    "# alice operates on her qubits\n",
    "tele_qc.cx(0, 1)\n",
    "tele_qc.h(0)\n",
    "tele_qc.barrier()\n",
    "tele_qc.draw('mpl')"
   ]
  },
  {
   "cell_type": "markdown",
   "metadata": {},
   "source": [
    "Now Alice measures her qubits and saves the results to her register."
   ]
  },
  {
   "cell_type": "code",
   "execution_count": null,
   "metadata": {},
   "outputs": [],
   "source": [
    "tele_qc.measure([qr[0], bell[0]], alice)\n",
    "tele_qc.draw('mpl')"
   ]
  },
  {
   "cell_type": "markdown",
   "metadata": {},
   "source": [
    "Bob's qubit now has the information $|\\psi\\rangle$ from Alice's qubit $q$ encoded in $Bell_1$, but he does not know what basis to measure in to extract it. Accordingly, Alice must share the information in her register over a *classical* communication channel (this is why teleportation does not violate special relativity, no matter how far Alice and Bob are apart). She instructs Bob to perform an X gate on his qubit if her measurement of $Bell_0$ yields a 1 outcome, followed by a Z gate if her measurement of $q$ yields a 1.\n",
    "\n",
    "The applications of these gates can be conditioned on the measurement outcomes in two ways:\n",
    "- the `.c_if()` [instruction](https://qiskit.org/documentation/stubs/qiskit.circuit.Instruction.c_if.html), which applies the gate it modifies if the value of the `ClassicalRegister` index is equal to the value specified. Note that this works **only** on simulators.\n",
    "- the `.if_test()` [context](https://qiskit.org/documentation/stubs/qiskit.circuit.QuantumCircuit.if_test.html) which operates similarly, but generalizes the syntax to allow for nested conditionals. This works on both simulators and actual hardware."
   ]
  },
  {
   "cell_type": "markdown",
   "metadata": {},
   "source": [
    "**STEP 4**: Add approriate conditional gates to transform Bob's qubit into the $Z$-basis."
   ]
  },
  {
   "cell_type": "code",
   "execution_count": null,
   "metadata": {},
   "outputs": [],
   "source": [
    "full_qc = tele_qc.copy()\n",
    "\n",
    "\n",
    "#### ANSWER\n",
    "\n",
    "\n",
    "#### END ANSWER\n",
    "\n",
    "\n",
    "full_qc.draw('mpl')"
   ]
  },
  {
   "cell_type": "markdown",
   "metadata": {},
   "source": [
    "Finally, Bob can measure his qubit, which would yield results with the same probabilities as had Alice measured it originally."
   ]
  },
  {
   "cell_type": "code",
   "execution_count": null,
   "metadata": {},
   "outputs": [],
   "source": [
    "full_qc.barrier()\n",
    "full_qc.measure(bell[1], bob)\n",
    "full_qc.draw('mpl')"
   ]
  },
  {
   "cell_type": "markdown",
   "metadata": {},
   "source": [
    "The statevector simulator cannot work with dynamic circuits because measurement is not a unitary operation. Therefore we import the `Sampler` primitive from `qiskit_aer` to use the `AerSimulator`. We choose our angle to be $5\\pi/7$, which will yield a 1 result about 80\\% of the time and 0 result about 20\\% of the time. Then we run both circuits: the original one Alice had and the teleported one Bob receives. "
   ]
  },
  {
   "cell_type": "code",
   "execution_count": null,
   "metadata": {},
   "outputs": [],
   "source": [
    "from qiskit_aer.primitives import Sampler\n",
    "\n",
    "angle = 5*np.pi/7\n",
    "\n",
    "sampler = Sampler()\n",
    "qc.measure_all()\n",
    "job_static = sampler.run(qc.bind_parameters({theta: angle}))\n",
    "job_dynamic = sampler.run(full_qc.bind_parameters({theta: angle}))\n",
    "\n",
    "print(f\"Original Dists: {job_static.result().quasi_dists[0].binary_probabilities()}\")\n",
    "print(f\"Teleported Dists: {job_dynamic.result().quasi_dists[0].binary_probabilities()}\")"
   ]
  },
  {
   "cell_type": "markdown",
   "metadata": {},
   "source": [
    "Wait, we see different results! While measuring Alice's original $q$ yields the expected ratio of outcomes, the teleported distributions have many more values. This is because the teleported circuit includes Alice's measurements of $q$ and $Bell_0$, whereas we only wish to see Bob's measurements of $Bell_1$ yield the same distribution. \n",
    "\n",
    "In order to rectify this, we must take the *marginal* counts, meaning we combine results in which Bob measures a 0 and all the results in which Bob measures a 1 over all the possible combinations. This is done with the `marginal_counts` [method](https://qiskit.org/documentation/stubs/qiskit.result.marginal_counts.html) from `qiskit.result`, which combines results over measurement indices."
   ]
  },
  {
   "cell_type": "markdown",
   "metadata": {},
   "source": [
    "**STEP 5**: Marginalize the teleported counts\n",
    "\n",
    "Hint: Remember that bit strings are reported in the little-endian convention."
   ]
  },
  {
   "cell_type": "code",
   "execution_count": 28,
   "metadata": {},
   "outputs": [],
   "source": [
    "from qiskit.result import marginal_counts\n",
    "\n",
    "# FILL IN CODE HERE\n",
    "'''\n",
    "tele_counts = # marginalize counts\n",
    "'''\n",
    "\n",
    "#### ANSWER\n",
    "\n",
    "#### END ANSWER\n",
    "\n"
   ]
  },
  {
   "cell_type": "markdown",
   "metadata": {},
   "source": [
    "If we marginalized correctly, we will see that the quasi-distributions from Alice's measurement and Bob's measurement are nearly identical, demonstrating that teleportation was successful!"
   ]
  },
  {
   "cell_type": "code",
   "execution_count": null,
   "metadata": {},
   "outputs": [],
   "source": [
    "legend = ['Original State', 'Teleported State']\n",
    "plot_histogram([job_static.result().quasi_dists[0].binary_probabilities(), tele_counts], legend=legend)"
   ]
  },
  {
   "cell_type": "code",
   "execution_count": null,
   "metadata": {},
   "outputs": [],
   "source": [
    "import qiskit.tools.jupyter\n",
    "%qiskit_version_table"
   ]
  }
 ],
 "metadata": {
  "kernelspec": {
   "display_name": "Python 3 (ipykernel)",
   "language": "python",
   "name": "python3"
  },
  "language_info": {
   "codemirror_mode": {
    "name": "ipython",
    "version": 3
   },
   "file_extension": ".py",
   "mimetype": "text/x-python",
   "name": "python",
   "nbconvert_exporter": "python",
   "pygments_lexer": "ipython3",
   "version": "3.10.12"
  },
  "widgets": {
   "application/vnd.jupyter.widget-state+json": {
    "state": {
     "1d3b7c92ff954e67a7edbd32da6f6818": {
      "model_module": "@jupyter-widgets/controls",
      "model_module_version": "2.0.0",
      "model_name": "HTMLModel",
      "state": {
       "layout": "IPY_MODEL_4d6d2717d00845ffb8b0f494d9f3d7e1",
       "style": "IPY_MODEL_431dd75f15da490c9a0e735bfc2ac710",
       "value": "<h5>Backend</h5>"
      }
     },
     "233de96488a84e2f96dfe39ef1ec06a5": {
      "model_module": "@jupyter-widgets/controls",
      "model_module_version": "2.0.0",
      "model_name": "GridBoxModel",
      "state": {
       "children": [
        "IPY_MODEL_c644b57bdb9a4f36be79f09531abc0b6"
       ],
       "layout": "IPY_MODEL_d64953aa6f604391b12d2996f139e163"
      }
     },
     "2440141156a2407a965fa0d2de842cdc": {
      "model_module": "@jupyter-widgets/base",
      "model_module_version": "2.0.0",
      "model_name": "LayoutModel",
      "state": {
       "margin": "0px 0px 10px 0px"
      }
     },
     "431dd75f15da490c9a0e735bfc2ac710": {
      "model_module": "@jupyter-widgets/controls",
      "model_module_version": "2.0.0",
      "model_name": "HTMLStyleModel",
      "state": {
       "description_width": "",
       "font_size": null,
       "text_color": null
      }
     },
     "4d558b77b7554b6d983b1c33d5289f90": {
      "model_module": "@jupyter-widgets/controls",
      "model_module_version": "2.0.0",
      "model_name": "HTMLModel",
      "state": {
       "layout": "IPY_MODEL_a40be0eaf2334dcaadebbb2b953b814f",
       "style": "IPY_MODEL_c091934de9e74547bb75da14ce4f011f",
       "value": "<h5>Job ID</h5>"
      }
     },
     "4d6d2717d00845ffb8b0f494d9f3d7e1": {
      "model_module": "@jupyter-widgets/base",
      "model_module_version": "2.0.0",
      "model_name": "LayoutModel",
      "state": {
       "width": "145px"
      }
     },
     "505c58c093b4430f94203e7586b29625": {
      "model_module": "@jupyter-widgets/controls",
      "model_module_version": "2.0.0",
      "model_name": "HTMLStyleModel",
      "state": {
       "description_width": "",
       "font_size": null,
       "text_color": null
      }
     },
     "5cca1c2bda454aba823751b5fd2bd79d": {
      "model_module": "@jupyter-widgets/controls",
      "model_module_version": "2.0.0",
      "model_name": "HTMLStyleModel",
      "state": {
       "description_width": "",
       "font_size": null,
       "text_color": null
      }
     },
     "604e153d6d0548a39540ae5acf2ad1a3": {
      "model_module": "@jupyter-widgets/controls",
      "model_module_version": "2.0.0",
      "model_name": "HTMLModel",
      "state": {
       "layout": "IPY_MODEL_ee3926eee1d6476b843b8d112e9b471d",
       "style": "IPY_MODEL_eac24bb0ec7b4267ac9d298aee61884e",
       "value": "<h5>Status</h5>"
      }
     },
     "6844b729b8c849999410d15cc3fd72dd": {
      "model_module": "@jupyter-widgets/controls",
      "model_module_version": "2.0.0",
      "model_name": "ButtonStyleModel",
      "state": {
       "font_family": null,
       "font_size": null,
       "font_style": null,
       "font_variant": null,
       "font_weight": null,
       "text_color": null,
       "text_decoration": null
      }
     },
     "6f621038244e4eae8df66d114da63228": {
      "model_module": "@jupyter-widgets/controls",
      "model_module_version": "2.0.0",
      "model_name": "HTMLStyleModel",
      "state": {
       "description_width": "",
       "font_size": null,
       "text_color": null
      }
     },
     "721c0892ef21454bb691ec32bce51ce8": {
      "model_module": "@jupyter-widgets/base",
      "model_module_version": "2.0.0",
      "model_name": "LayoutModel",
      "state": {
       "grid_area": "right",
       "padding": "0px 0px 0px 0px",
       "width": "70px"
      }
     },
     "789a4b5082124c6aa08dcbf3ac91061e": {
      "model_module": "@jupyter-widgets/base",
      "model_module_version": "2.0.0",
      "model_name": "LayoutModel",
      "state": {
       "margin": "0px 0px 0px 37px",
       "width": "600px"
      }
     },
     "7dfb2cb77d1b4c36a7ba5d65f28faafb": {
      "model_module": "@jupyter-widgets/controls",
      "model_module_version": "2.0.0",
      "model_name": "HTMLModel",
      "state": {
       "layout": "IPY_MODEL_a64976be49f445c99eb0aee9965936c7",
       "style": "IPY_MODEL_505c58c093b4430f94203e7586b29625",
       "value": "<h5>Queue</h5>"
      }
     },
     "a40be0eaf2334dcaadebbb2b953b814f": {
      "model_module": "@jupyter-widgets/base",
      "model_module_version": "2.0.0",
      "model_name": "LayoutModel",
      "state": {
       "width": "190px"
      }
     },
     "a64976be49f445c99eb0aee9965936c7": {
      "model_module": "@jupyter-widgets/base",
      "model_module_version": "2.0.0",
      "model_name": "LayoutModel",
      "state": {
       "width": "70px"
      }
     },
     "ad52aa338a99402884f4e8dc9e450e97": {
      "model_module": "@jupyter-widgets/controls",
      "model_module_version": "2.0.0",
      "model_name": "HBoxModel",
      "state": {
       "children": [
        "IPY_MODEL_4d558b77b7554b6d983b1c33d5289f90",
        "IPY_MODEL_1d3b7c92ff954e67a7edbd32da6f6818",
        "IPY_MODEL_604e153d6d0548a39540ae5acf2ad1a3",
        "IPY_MODEL_7dfb2cb77d1b4c36a7ba5d65f28faafb",
        "IPY_MODEL_c55e6030359446b69f1bafda6f904469"
       ],
       "layout": "IPY_MODEL_789a4b5082124c6aa08dcbf3ac91061e"
      }
     },
     "c091934de9e74547bb75da14ce4f011f": {
      "model_module": "@jupyter-widgets/controls",
      "model_module_version": "2.0.0",
      "model_name": "HTMLStyleModel",
      "state": {
       "description_width": "",
       "font_size": null,
       "text_color": null
      }
     },
     "c55e6030359446b69f1bafda6f904469": {
      "model_module": "@jupyter-widgets/controls",
      "model_module_version": "2.0.0",
      "model_name": "HTMLModel",
      "state": {
       "layout": "IPY_MODEL_f886aa74522e48bba520dcea9f7a6285",
       "style": "IPY_MODEL_6f621038244e4eae8df66d114da63228",
       "value": "<h5>Message</h5>"
      }
     },
     "c644b57bdb9a4f36be79f09531abc0b6": {
      "model_module": "@jupyter-widgets/controls",
      "model_module_version": "2.0.0",
      "model_name": "ButtonModel",
      "state": {
       "button_style": "primary",
       "description": "Clear",
       "layout": "IPY_MODEL_721c0892ef21454bb691ec32bce51ce8",
       "style": "IPY_MODEL_6844b729b8c849999410d15cc3fd72dd",
       "tooltip": null
      }
     },
     "d64953aa6f604391b12d2996f139e163": {
      "model_module": "@jupyter-widgets/base",
      "model_module_version": "2.0.0",
      "model_name": "LayoutModel",
      "state": {
       "grid_template_areas": "\n                                       \". . . . right \"\n                                        ",
       "grid_template_columns": "20% 20% 20% 20% 20%",
       "width": "100%"
      }
     },
     "e0f9308ff6594dbe979138aaa2fb8df3": {
      "model_module": "@jupyter-widgets/controls",
      "model_module_version": "2.0.0",
      "model_name": "HTMLModel",
      "state": {
       "layout": "IPY_MODEL_2440141156a2407a965fa0d2de842cdc",
       "style": "IPY_MODEL_5cca1c2bda454aba823751b5fd2bd79d",
       "value": "<p style='font-family: IBM Plex Sans, Arial, Helvetica, sans-serif; font-size: 20px; font-weight: medium;'>Circuit Properties</p>"
      }
     },
     "eac24bb0ec7b4267ac9d298aee61884e": {
      "model_module": "@jupyter-widgets/controls",
      "model_module_version": "2.0.0",
      "model_name": "HTMLStyleModel",
      "state": {
       "description_width": "",
       "font_size": null,
       "text_color": null
      }
     },
     "ee3926eee1d6476b843b8d112e9b471d": {
      "model_module": "@jupyter-widgets/base",
      "model_module_version": "2.0.0",
      "model_name": "LayoutModel",
      "state": {
       "width": "95px"
      }
     },
     "f886aa74522e48bba520dcea9f7a6285": {
      "model_module": "@jupyter-widgets/base",
      "model_module_version": "2.0.0",
      "model_name": "LayoutModel",
      "state": {}
     }
    },
    "version_major": 2,
    "version_minor": 0
   }
  }
 },
 "nbformat": 4,
 "nbformat_minor": 4
}
